{
 "cells": [
  {
   "cell_type": "code",
   "execution_count": 1,
   "metadata": {},
   "outputs": [],
   "source": [
    "import pandas as pd\n",
    "import math\n",
    "import csv"
   ]
  },
  {
   "cell_type": "markdown",
   "metadata": {},
   "source": [
    "# Part 1"
   ]
  },
  {
   "cell_type": "code",
   "execution_count": 2,
   "metadata": {},
   "outputs": [
    {
     "data": {
      "text/plain": [
       "'\\nFuel required to launch a given module is based on its mass. \\nSpecifically, to find the fuel required for a module, take its mass, \\ndivide by three, round down, and subtract 2.\\n'"
      ]
     },
     "execution_count": 2,
     "metadata": {},
     "output_type": "execute_result"
    }
   ],
   "source": [
    "'''\n",
    "Fuel required to launch a given module is based on its mass. \n",
    "Specifically, to find the fuel required for a module, take its mass, \n",
    "divide by three, round down, and subtract 2.\n",
    "'''"
   ]
  },
  {
   "cell_type": "code",
   "execution_count": 3,
   "metadata": {},
   "outputs": [],
   "source": [
    "df = pd.read_csv(\"day1_input.csv\",header = None)"
   ]
  },
  {
   "cell_type": "code",
   "execution_count": 4,
   "metadata": {},
   "outputs": [
    {
     "data": {
      "text/plain": [
       "Int64Index([0], dtype='int64')"
      ]
     },
     "execution_count": 4,
     "metadata": {},
     "output_type": "execute_result"
    }
   ],
   "source": [
    "df.columns"
   ]
  },
  {
   "cell_type": "code",
   "execution_count": 5,
   "metadata": {},
   "outputs": [],
   "source": [
    "mass_list = df[0].tolist()"
   ]
  },
  {
   "cell_type": "code",
   "execution_count": 6,
   "metadata": {},
   "outputs": [],
   "source": [
    "def fuel_req(mass):\n",
    "    return int(mass/3)-2"
   ]
  },
  {
   "cell_type": "code",
   "execution_count": 7,
   "metadata": {},
   "outputs": [],
   "source": [
    "req = 0\n",
    "\n",
    "for mass in mass_list:\n",
    "    req += fuel_req(mass)"
   ]
  },
  {
   "cell_type": "code",
   "execution_count": 8,
   "metadata": {},
   "outputs": [
    {
     "data": {
      "text/plain": [
       "3414791"
      ]
     },
     "execution_count": 8,
     "metadata": {},
     "output_type": "execute_result"
    }
   ],
   "source": [
    "req"
   ]
  },
  {
   "cell_type": "markdown",
   "metadata": {},
   "source": [
    "# Part 2"
   ]
  },
  {
   "cell_type": "code",
   "execution_count": 9,
   "metadata": {},
   "outputs": [
    {
     "data": {
      "text/plain": [
       "'\\nFuel itself requires fuel just like a module - take its mass, divide by three, round down, and subtract 2. \\nHowever, that fuel also requires fuel, and that fuel requires fuel, and so on. \\nAny mass that would require negative fuel should instead be treated as if it requires zero fuel;\\n\\nSo, for each module mass, calculate its fuel and add it to the total. \\nThen, treat the fuel amount you just calculated as the input mass and repeat the process, \\ncontinuing until a fuel requirement is zero or negative. For example:\\n\\nA module of mass 14 requires 2 fuel. This fuel requires no further fuel \\n(2 divided by 3 and rounded down is 0, which would call for a negative fuel),\\nso the total fuel required is still just 2.\\n\\nAt first, a module of mass 1969 requires 654 fuel. Then, this fuel requires 216 more \\nfuel (654 / 3 - 2). 216 then requires 70 more fuel, which requires 21 fuel, which requires \\n5 fuel, which requires no further fuel. So, the total fuel required for a module of \\nmass 1969 is 654 + 216 + 70 + 21 + 5 = 966.\\n\\nThe fuel required by a module of mass 100756 and its fuel is: \\n33583 + 11192 + 3728 + 1240 + 411 + 135 + 43 + 12 + 2 = 50346.\\n\\n\\n'"
      ]
     },
     "execution_count": 9,
     "metadata": {},
     "output_type": "execute_result"
    }
   ],
   "source": [
    "'''\n",
    "Fuel itself requires fuel just like a module - take its mass, divide by three, round down, and subtract 2. \n",
    "However, that fuel also requires fuel, and that fuel requires fuel, and so on. \n",
    "Any mass that would require negative fuel should instead be treated as if it requires zero fuel;\n",
    "\n",
    "So, for each module mass, calculate its fuel and add it to the total. \n",
    "Then, treat the fuel amount you just calculated as the input mass and repeat the process, \n",
    "continuing until a fuel requirement is zero or negative. For example:\n",
    "\n",
    "A module of mass 14 requires 2 fuel. This fuel requires no further fuel \n",
    "(2 divided by 3 and rounded down is 0, which would call for a negative fuel),\n",
    "so the total fuel required is still just 2.\n",
    "\n",
    "At first, a module of mass 1969 requires 654 fuel. Then, this fuel requires 216 more \n",
    "fuel (654 / 3 - 2). 216 then requires 70 more fuel, which requires 21 fuel, which requires \n",
    "5 fuel, which requires no further fuel. So, the total fuel required for a module of \n",
    "mass 1969 is 654 + 216 + 70 + 21 + 5 = 966.\n",
    "\n",
    "The fuel required by a module of mass 100756 and its fuel is: \n",
    "33583 + 11192 + 3728 + 1240 + 411 + 135 + 43 + 12 + 2 = 50346.\n",
    "\n",
    "\n",
    "'''"
   ]
  },
  {
   "cell_type": "code",
   "execution_count": 85,
   "metadata": {},
   "outputs": [],
   "source": [
    "def fuel_req_2(mass):\n",
    "    \n",
    "    total = 0\n",
    "    req = int(mass/3)-2\n",
    "    total +=req\n",
    "    while req > 0:\n",
    "        req = int(req/3)-2\n",
    "#         print(total)\n",
    "#         print(f\"prior to adding {total}\")\n",
    "        if req <0:\n",
    "            break\n",
    "        \n",
    "        \n",
    "#         print(req)\n",
    "        total += req\n",
    "#         print(total)\n",
    "        \n",
    "    \n",
    "    return total"
   ]
  },
  {
   "cell_type": "code",
   "execution_count": 87,
   "metadata": {},
   "outputs": [
    {
     "data": {
      "text/plain": [
       "50346"
      ]
     },
     "execution_count": 87,
     "metadata": {},
     "output_type": "execute_result"
    }
   ],
   "source": [
    "fuel_req_2(100756)"
   ]
  },
  {
   "cell_type": "code",
   "execution_count": 88,
   "metadata": {},
   "outputs": [],
   "source": [
    "adjusted_req = 0\n",
    "\n",
    "for mass in mass_list:\n",
    "    adjusted_req+=fuel_req_2(mass)"
   ]
  },
  {
   "cell_type": "code",
   "execution_count": 89,
   "metadata": {},
   "outputs": [
    {
     "data": {
      "text/plain": [
       "5119312"
      ]
     },
     "execution_count": 89,
     "metadata": {},
     "output_type": "execute_result"
    }
   ],
   "source": [
    "adjusted_req"
   ]
  },
  {
   "cell_type": "code",
   "execution_count": null,
   "metadata": {},
   "outputs": [],
   "source": []
  }
 ],
 "metadata": {
  "kernelspec": {
   "display_name": "Python 3",
   "language": "python",
   "name": "python3"
  },
  "language_info": {
   "codemirror_mode": {
    "name": "ipython",
    "version": 3
   },
   "file_extension": ".py",
   "mimetype": "text/x-python",
   "name": "python",
   "nbconvert_exporter": "python",
   "pygments_lexer": "ipython3",
   "version": "3.6.8"
  }
 },
 "nbformat": 4,
 "nbformat_minor": 2
}
